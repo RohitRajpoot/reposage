{
 "cells": [
  {
   "cell_type": "code",
   "execution_count": 1,
   "id": "c2cc1d25-f571-413a-b7f9-865ec02fbcf9",
   "metadata": {},
   "outputs": [],
   "source": [
    "corpus = [\n",
    "    \"fido loves the red ball\",\n",
    "    \"timmy and fido go to the park\",\n",
    "    \"the quick brown fox jumps over the lazy dog\",\n",
    "    \"homework can be frustrating\",\n",
    "    \"bayesian training learns from co occurrence\",\n",
    "    \"streamlit deploys interactive apps\",\n",
    "    \"docker containers run consistent environments\",\n",
    "    \"github actions automate ci cd pipelines\",\n",
    "    \"hugging face spaces hosts ai demos\",\n",
    "    \"embeddings capture semantic relationships\",\n",
    "    \"transformers use self attention and feedforward blocks\",\n",
    "    \"tokens are the smallest units of text\",\n",
    "    \"positional encoding adds sequence information\",\n",
    "    \"students use reposage for study assistance\",\n",
    "    \"ai chatbots provide twenty four seven support\",\n",
    "]"
   ]
  },
  {
   "cell_type": "code",
   "execution_count": 3,
   "id": "9cfffbd3-78b7-47b1-994d-792276f0e06d",
   "metadata": {},
   "outputs": [],
   "source": [
    "# bayes_train.ipynb cell 2\n",
    "import torch\n",
    "from collections import defaultdict\n",
    "from nltk.tokenize import word_tokenize\n",
    "\n",
    "# 1) Build vocab\n",
    "tokens = set(w for sent in corpus\n",
    "             for w in word_tokenize(sent.lower()))\n",
    "token2idx = {w:i for i,w in enumerate(sorted(tokens))}\n",
    "V = len(token2idx)\n",
    "\n",
    "# 2) Initialize co-occurrence counts\n",
    "window = 2\n",
    "counts = torch.zeros((V,V), dtype=torch.float32)\n",
    "\n",
    "# 3) Count\n",
    "for sent in corpus:\n",
    "    words = word_tokenize(sent.lower())\n",
    "    for i, cw in enumerate(words):\n",
    "        for j in range(max(0,i-window), min(len(words),i+window+1)):\n",
    "            if i!=j:\n",
    "                counts[token2idx[cw], token2idx[words[j]]] += 1\n",
    "\n",
    "# 4) Laplace smoothing & conditional probabilities\n",
    "alpha = 1.0\n",
    "counts_sm = counts + alpha\n",
    "row_sums = counts_sm.sum(dim=1, keepdim=True)\n",
    "probs = counts_sm / row_sums    # shape V×V\n"
   ]
  },
  {
   "cell_type": "code",
   "execution_count": 5,
   "id": "c46bc004-7c0d-4f66-86fb-ea4c0413805d",
   "metadata": {},
   "outputs": [],
   "source": [
    "# bayes_train.ipynb cell 3\n",
    "import json, torch.nn as nn\n",
    "\n",
    "# Create an embedding layer with pretrained weights\n",
    "emb = nn.Embedding(V, V)\n",
    "with torch.no_grad():\n",
    "    emb.weight.copy_(probs)   # each token’s vector = its conditional‐prob row\n",
    "\n",
    "# Save the new Bayesian embeddings\n",
    "torch.save(emb.weight, \"tensor_bayes.pt\")\n",
    "with open(\"vocab_bayes.json\",\"w\") as f:\n",
    "    json.dump(token2idx, f)\n"
   ]
  },
  {
   "cell_type": "code",
   "execution_count": null,
   "id": "55eedd10-cf54-4784-9e8d-7c3e6640bc5a",
   "metadata": {},
   "outputs": [],
   "source": []
  }
 ],
 "metadata": {
  "kernelspec": {
   "display_name": "Python [conda env:base] *",
   "language": "python",
   "name": "conda-base-py"
  },
  "language_info": {
   "codemirror_mode": {
    "name": "ipython",
    "version": 3
   },
   "file_extension": ".py",
   "mimetype": "text/x-python",
   "name": "python",
   "nbconvert_exporter": "python",
   "pygments_lexer": "ipython3",
   "version": "3.12.7"
  }
 },
 "nbformat": 4,
 "nbformat_minor": 5
}
