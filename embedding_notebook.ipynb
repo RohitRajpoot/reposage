{
 "cells": [
  {
   "cell_type": "code",
   "execution_count": 1,
   "id": "639cbe9f-0785-4e00-87c5-4376b1fe039a",
   "metadata": {},
   "outputs": [
    {
     "name": "stdout",
     "output_type": "stream",
     "text": [
      "Tokens: ['and', 'ball', 'fido', 'go', 'loves', 'park', 'red', 'the', 'timmy', 'to']\n",
      "Co-matrix shape: torch.Size([10, 10])\n"
     ]
    },
    {
     "name": "stderr",
     "output_type": "stream",
     "text": [
      "[nltk_data] Downloading package punkt to\n",
      "[nltk_data]     /Users/rohitrajpoot/nltk_data...\n",
      "[nltk_data]   Package punkt is already up-to-date!\n"
     ]
    }
   ],
   "source": [
    "import nltk\n",
    "from nltk.tokenize import word_tokenize\n",
    "import torch\n",
    "\n",
    "nltk.download('punkt')  # one-time download\n",
    "\n",
    "# ❶ Sample corpus (you can add more sentences later)\n",
    "corpus = [\n",
    "    \"fido loves the red ball\",\n",
    "    \"timmy and fido go to the park\"\n",
    "]\n",
    "\n",
    "# ❷ Build vocabulary\n",
    "tokens = sorted({w for s in corpus for w in word_tokenize(s.lower())})\n",
    "token2idx = {w:i for i,w in enumerate(tokens)}\n",
    "\n",
    "# ❸ Co-occurrence matrix\n",
    "window = 2\n",
    "co_matrix = torch.zeros((len(tokens), len(tokens)))\n",
    "for s in corpus:\n",
    "    words = word_tokenize(s.lower())\n",
    "    for i, cw in enumerate(words):\n",
    "        for j in range(max(0, i-window), min(len(words), i+window+1)):\n",
    "            if i!=j:\n",
    "                co_matrix[token2idx[cw], token2idx[words[j]]] += 1\n",
    "\n",
    "print(\"Tokens:\", tokens)\n",
    "print(\"Co-matrix shape:\", co_matrix.shape)\n"
   ]
  },
  {
   "cell_type": "code",
   "execution_count": 2,
   "id": "07932cfd-b61f-4886-a441-1cae02c849fd",
   "metadata": {},
   "outputs": [
    {
     "name": "stdout",
     "output_type": "stream",
     "text": [
      "Saved tensor.pt with shape torch.Size([10, 8])\n"
     ]
    }
   ],
   "source": [
    "# ❶ Define an embedding layer\n",
    "embed_dim = 8\n",
    "embedding = torch.nn.Embedding(len(tokens), embed_dim)\n",
    "\n",
    "# ❷ (Optional) A quick “training” step could go here – for now we save the initial weights\n",
    "torch.save(embedding.weight.data, \"tensor.pt\")\n",
    "print(\"Saved tensor.pt with shape\", embedding.weight.data.shape)\n"
   ]
  },
  {
   "cell_type": "code",
   "execution_count": 6,
   "id": "56203aff-ad61-454d-8dca-66fbc5731c26",
   "metadata": {},
   "outputs": [],
   "source": [
    "import json\n",
    "\n",
    "# 1. Save the embedding weights tensor\n",
    "torch.save(embedding.weight, \"tensor.pt\")\n",
    "\n",
    "# 2. Save your vocabulary mapping\n",
    "with open(\"vocab.json\", \"w\") as f:\n",
    "    json.dump(token2idx, f)\n"
   ]
  },
  {
   "cell_type": "code",
   "execution_count": 8,
   "id": "eb2f13a3-6389-421c-a0ba-2e10d5668185",
   "metadata": {},
   "outputs": [
    {
     "data": {
      "image/png": "[encoded data removed]",
      "text/plain": [
       "<Figure size 640x480 with 2 Axes>"
      ]
     },
     "metadata": {},
     "output_type": "display_data"
    }
   ],
   "source": [
    "import matplotlib.pyplot as plt\n",
    "from sklearn.metrics.pairwise import cosine_similarity\n",
    "\n",
    "vecs = embedding.weight.data.numpy()\n",
    "sim = cosine_similarity(vecs)\n",
    "plt.imshow(sim, cmap=\"viridis\")\n",
    "plt.colorbar()\n",
    "plt.title(\"Token similarity heatmap\")\n",
    "plt.show()\n"
   ]
  },
  {
   "cell_type": "code",
   "execution_count": null,
   "id": "79664eba-c358-41ef-83bb-756952d84db9",
   "metadata": {},
   "outputs": [],
   "source": []
  }
 ],
 "metadata": {
  "kernelspec": {
   "display_name": "Python [conda env:base] *",
   "language": "python",
   "name": "conda-base-py"
  },
  "language_info": {
   "codemirror_mode": {
    "name": "ipython",
    "version": 3
   },
   "file_extension": ".py",
   "mimetype": "text/x-python",
   "name": "python",
   "nbconvert_exporter": "python",
   "pygments_lexer": "ipython3",
   "version": "3.12.7"
  }
 },
 "nbformat": 4,
 "nbformat_minor": 5
}
